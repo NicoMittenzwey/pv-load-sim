{
  "nbformat": 4,
  "nbformat_minor": 0,
  "metadata": {
    "colab": {
      "provenance": [],
      "authorship_tag": "ABX9TyNbZjnVWfGiu6Lj7n242Kse",
      "include_colab_link": true
    },
    "kernelspec": {
      "name": "python3",
      "display_name": "Python 3"
    },
    "language_info": {
      "name": "python"
    }
  },
  "cells": [
    {
      "cell_type": "markdown",
      "metadata": {
        "id": "view-in-github",
        "colab_type": "text"
      },
      "source": [
        "<a href=\"https://colab.research.google.com/github/NicoMittenzwey/pv-load-sim/blob/main/Lastgang_Jahreszeiten.ipynb\" target=\"_parent\"><img src=\"https://colab.research.google.com/assets/colab-badge.svg\" alt=\"Open In Colab\"/></a>"
      ]
    },
    {
      "cell_type": "markdown",
      "source": [
        "# Setup\n",
        "First, let's install the required libraries and import them."
      ],
      "metadata": {
        "id": "dURdETFmudQN"
      }
    },
    {
      "cell_type": "code",
      "execution_count": null,
      "metadata": {
        "collapsed": true,
        "id": "LkkBpIUmsjyB"
      },
      "outputs": [],
      "source": [
        "!pip install pandas numpy matplotlib\n",
        "\n",
        "import pandas as pd\n",
        "import numpy as np\n",
        "from datetime import datetime, time\n",
        "import matplotlib.pyplot as plt\n",
        "import matplotlib.dates as mdates\n",
        "from google.colab import files\n",
        "from ipywidgets import widgets\n",
        "from IPython.display import display\n",
        "\n",
        "import io\n",
        "\n",
        "# Suppress warnings\n",
        "import warnings\n",
        "warnings.filterwarnings('ignore')\n"
      ]
    },
    {
      "cell_type": "markdown",
      "source": [
        "# Upload Your Data\n",
        "You need to upload two CSV files:\n",
        "\n",
        "energy_consumption.csv: Contains energy consumption data\n",
        "energy_generation.csv: Contains energy generation data\n",
        "\n",
        "Both files should have columns: 'Start Date', 'Start Time', and 'kW'."
      ],
      "metadata": {
        "id": "cIAmFUhLud8l"
      }
    },
    {
      "cell_type": "code",
      "source": [
        "uploaded = files.upload()\n",
        "\n",
        "# Get the uploaded filenames\n",
        "consumption_file = [f for f in uploaded.keys() if 'consumption' in f.lower()][0]\n",
        "generation_file = [f for f in uploaded.keys() if 'generation' in f.lower()][0]\n",
        "\n",
        "# Read the CSV files\n",
        "df_consumption = pd.read_csv(io.BytesIO(uploaded[consumption_file]))\n",
        "df_generation = pd.read_csv(io.BytesIO(uploaded[generation_file]))\n",
        "\n",
        "print(\"Data uploaded successfully!\")"
      ],
      "metadata": {
        "id": "tphpVZ9But5J"
      },
      "execution_count": null,
      "outputs": []
    },
    {
      "cell_type": "markdown",
      "source": [
        "# Generation Scaling"
      ],
      "metadata": {
        "id": "GuKPXe-fwbVR"
      }
    },
    {
      "cell_type": "code",
      "source": [
        "scaling_factor = widgets.FloatSlider(\n",
        "    value=1.0,\n",
        "    min=0.1,\n",
        "    max=5.0,\n",
        "    step=0.1,\n",
        "    description='Generation Scaling Factor:',\n",
        "    continuous_update=False,\n",
        "    readout_format='.2f'\n",
        ")\n",
        "\n",
        "display(scaling_factor)\n",
        "\n",
        "print(\"Please adjust the scaling factor for generation data using the slider above.\")\n",
        "print(\"Default is 1.0 (no scaling). The analysis will update when you change the value.\")"
      ],
      "metadata": {
        "id": "-lJl7Hj9waYv"
      },
      "execution_count": null,
      "outputs": []
    },
    {
      "cell_type": "markdown",
      "source": [
        "# Data Processing\n",
        "Now, let's process the data and prepare it for analysis.\n",
        "\n"
      ],
      "metadata": {
        "id": "IfDtqKj8u7E4"
      }
    },
    {
      "cell_type": "code",
      "source": [
        "def process_data(df, is_generation=False):\n",
        "    df['datetime'] = pd.to_datetime(df['Start Date'] + ' ' + df['Start Time'], errors='coerce')\n",
        "    df = df.dropna(subset=['datetime'])\n",
        "    df['kW'] = pd.to_numeric(df['kW'], errors='coerce')\n",
        "    if is_generation:\n",
        "        df['kW'] *= scaling_factor.value  # Apply scaling to generation data\n",
        "    df['day_of_week'] = df['datetime'].dt.dayofweek\n",
        "    df['is_weekend'] = df['day_of_week'].isin([5, 6])\n",
        "    df['season'] = df['datetime'].dt.date.apply(get_season)\n",
        "    return df\n",
        "\n",
        "def update_data(*args):\n",
        "    global df_consumption, df_generation\n",
        "    df_consumption = process_data(pd.read_csv(io.BytesIO(uploaded[consumption_file])))\n",
        "    df_generation = process_data(pd.read_csv(io.BytesIO(uploaded[generation_file])), is_generation=True)\n",
        "    print(f\"Data processed with scaling factor: {scaling_factor.value:.2f}\")\n",
        "\n",
        "scaling_factor.observe(update_data, names='value')\n",
        "update_data()\n",
        "\n",
        "def get_season(date):\n",
        "    month = date.month\n",
        "    day = date.day\n",
        "\n",
        "    winter_mid = datetime(date.year, 12, 21).date()\n",
        "    spring_mid = datetime(date.year, 3, 21).date()\n",
        "    summer_mid = datetime(date.year, 6, 21).date()\n",
        "    autumn_mid = datetime(date.year, 9, 21).date()\n",
        "\n",
        "    if date.month < 3:\n",
        "        winter_mid = datetime(date.year - 1, 12, 21).date()\n",
        "\n",
        "    date_ordinal = date.toordinal()\n",
        "\n",
        "    distances = [\n",
        "        (abs(date_ordinal - winter_mid.toordinal()), 'Winter'),\n",
        "        (abs(date_ordinal - spring_mid.toordinal()), 'Spring'),\n",
        "        (abs(date_ordinal - summer_mid.toordinal()), 'Summer'),\n",
        "        (abs(date_ordinal - autumn_mid.toordinal()), 'Autumn')\n",
        "    ]\n",
        "\n",
        "    return min(distances, key=lambda x: x[0])[1]\n",
        "\n",
        "# Process the data\n",
        "df_consumption = process_data(df_consumption)\n",
        "df_generation = process_data(df_generation, is_generation=True)\n",
        "\n",
        "\n",
        "print(f\"Data processed successfully! Generation data scaled by factor: {scaling_factor.value}\")"
      ],
      "metadata": {
        "id": "vvvCXyt4u_ZP"
      },
      "execution_count": null,
      "outputs": []
    },
    {
      "cell_type": "markdown",
      "source": [
        "# Analysis Functions\n",
        "Here are the functions we'll use for our analysis."
      ],
      "metadata": {
        "id": "dZI8BRd2vEY4"
      }
    },
    {
      "cell_type": "code",
      "source": [
        "def identify_potential_holidays(df):\n",
        "    daily_consumption = df.groupby(df['datetime'].dt.date)['kW'].sum().reset_index()\n",
        "    daily_consumption['datetime'] = pd.to_datetime(daily_consumption['datetime'])\n",
        "    daily_consumption['is_weekend'] = daily_consumption['datetime'].dt.dayofweek.isin([5, 6])\n",
        "\n",
        "    weekday_consumption = daily_consumption[~daily_consumption['is_weekend']]['kW']\n",
        "    weekend_consumption = daily_consumption[daily_consumption['is_weekend']]['kW']\n",
        "\n",
        "    weekday_mean = weekday_consumption.mean()\n",
        "    weekday_std = weekday_consumption.std()\n",
        "    daily_consumption['z_score'] = (daily_consumption['kW'] - weekday_mean) / weekday_std\n",
        "\n",
        "    weekend_threshold = weekend_consumption.mean()\n",
        "    potential_holidays = daily_consumption[\n",
        "        (~daily_consumption['is_weekend']) &\n",
        "        (daily_consumption['kW'] < weekend_threshold) &\n",
        "        (daily_consumption['z_score'] < -1.5)\n",
        "    ]['datetime'].dt.date.tolist()\n",
        "\n",
        "    return potential_holidays\n",
        "\n",
        "def get_day_data(df, date=None, is_weekend=None, potential_holidays=[], is_generation=False):\n",
        "    if date is not None:\n",
        "        day_data = df[df['datetime'].dt.date == date].copy()\n",
        "    elif is_weekend is not None:\n",
        "        if not is_weekend and not is_generation:\n",
        "            df = df[~df['datetime'].dt.date.isin(potential_holidays)]\n",
        "        day_data = df[df['is_weekend'] == is_weekend].groupby(df['datetime'].dt.time).agg({'kW': 'mean'}).reset_index()\n",
        "    else:\n",
        "        day_data = df.groupby(df['datetime'].dt.time).agg({'kW': 'mean'}).reset_index()\n",
        "\n",
        "    day_data['datetime'] = pd.to_datetime(day_data['datetime'].astype(str))\n",
        "    day_data['minutes'] = day_data['datetime'].dt.hour * 60 + day_data['datetime'].dt.minute\n",
        "    return day_data\n",
        "\n",
        "print(\"Analysis functions defined successfully!\")"
      ],
      "metadata": {
        "id": "K1l00gv2vH4o"
      },
      "execution_count": null,
      "outputs": []
    },
    {
      "cell_type": "markdown",
      "source": [
        "# Run the Analysis\n",
        "Now, let's run the analysis and create the plots."
      ],
      "metadata": {
        "id": "GE4DodBxvNZj"
      }
    },
    {
      "cell_type": "code",
      "source": [
        "def run_original_analysis(*args):\n",
        "    global df_consumption, df_generation\n",
        "\n",
        "    # Identify potential holidays\n",
        "    potential_holidays = identify_potential_holidays(df_consumption)\n",
        "    print(\"Potential holidays detected:\", potential_holidays)\n",
        "\n",
        "    # Calculate daily total consumption and generation\n",
        "    daily_consumption = df_consumption.groupby([df_consumption['datetime'].dt.date, 'season'])['kW'].sum().reset_index()\n",
        "    daily_generation = df_generation.groupby([df_generation['datetime'].dt.date, 'season'])['kW'].sum().reset_index()\n",
        "\n",
        "    # Ensure datetime column is properly formatted\n",
        "    daily_consumption['datetime'] = pd.to_datetime(daily_consumption['datetime'])\n",
        "    daily_generation['datetime'] = pd.to_datetime(daily_generation['datetime'])\n",
        "\n",
        "    # Create a plot for each season\n",
        "    seasons = ['Winter', 'Spring', 'Summer', 'Autumn']\n",
        "    fig, axs = plt.subplots(2, 2, figsize=(20, 15))\n",
        "    axs = axs.ravel()\n",
        "\n",
        "    for idx, season in enumerate(seasons):\n",
        "        season_consumption = df_consumption[df_consumption['season'] == season]\n",
        "        season_generation = df_generation[df_generation['season'] == season]\n",
        "        season_daily_consumption = daily_consumption[daily_consumption['season'] == season]\n",
        "\n",
        "        if season_daily_consumption.empty:\n",
        "            print(f\"No data available for {season}. Skipping this season.\")\n",
        "            axs[idx].text(0.5, 0.5, f\"No data available for {season}\",\n",
        "                          ha='center', va='center', transform=axs[idx].transAxes)\n",
        "            continue\n",
        "\n",
        "        # Find max weekday consumption day for the season\n",
        "        max_weekday_consumption = season_daily_consumption[\n",
        "            ~season_daily_consumption['datetime'].dt.dayofweek.isin([5, 6]) &\n",
        "            ~season_daily_consumption['datetime'].dt.date.isin(potential_holidays)\n",
        "        ]['kW'].max()\n",
        "        max_weekday_date = season_daily_consumption[\n",
        "            (season_daily_consumption['kW'] == max_weekday_consumption) &\n",
        "            (~season_daily_consumption['datetime'].dt.dayofweek.isin([5, 6])) &\n",
        "            (~season_daily_consumption['datetime'].dt.date.isin(potential_holidays))\n",
        "        ]['datetime'].dt.date.iloc[0]\n",
        "\n",
        "        # Find min consumption day for the season\n",
        "        min_consumption_date = season_daily_consumption.loc[season_daily_consumption['kW'].idxmin(), 'datetime'].date()\n",
        "\n",
        "        # Get data for plotting\n",
        "        avg_generation_data = get_day_data(season_generation, is_generation=True)\n",
        "        avg_weekday_data = get_day_data(season_consumption, is_weekend=False, potential_holidays=potential_holidays)\n",
        "        max_weekday_data = get_day_data(season_consumption, date=max_weekday_date)\n",
        "        avg_weekend_data = get_day_data(season_consumption, is_weekend=True)\n",
        "        min_consumption_data = get_day_data(season_consumption, date=min_consumption_date)\n",
        "\n",
        "        # Plot data\n",
        "        axs[idx].plot(avg_generation_data['minutes'], avg_generation_data['kW'],\n",
        "                      label=f'Avg Generation (scaled by {scaling_factor.value:.2f})', color='green')\n",
        "        axs[idx].plot(avg_weekday_data['minutes'], avg_weekday_data['kW'], label='Avg Weekday', color='blue')\n",
        "        axs[idx].plot(max_weekday_data['minutes'], max_weekday_data['kW'], label=f'Max Weekday ({max_weekday_date})', color='red')\n",
        "        axs[idx].plot(avg_weekend_data['minutes'], avg_weekend_data['kW'], label='Avg Weekend', color='purple')\n",
        "        axs[idx].plot(min_consumption_data['minutes'], min_consumption_data['kW'], label=f'Min Consumption ({min_consumption_date})', color='orange')\n",
        "\n",
        "        axs[idx].set_title(f'{season} Power Consumption and Generation')\n",
        "        axs[idx].set_xlabel('Time')\n",
        "        axs[idx].set_ylabel('Power (kW)')\n",
        "        axs[idx].grid(True)\n",
        "\n",
        "        # Format x-axis to show time\n",
        "        def minutes_to_hhmm(x, pos):\n",
        "            return f'{int(x // 60):02d}:{int(x % 60):02d}'\n",
        "\n",
        "        axs[idx].xaxis.set_major_formatter(plt.FuncFormatter(minutes_to_hhmm))\n",
        "        axs[idx].xaxis.set_major_locator(plt.MultipleLocator(120))  # Tick every 2 hours\n",
        "\n",
        "        # Add legend\n",
        "        axs[idx].legend()\n",
        "\n",
        "        # Print statistics for the season\n",
        "        print(f\"\\n{season}:\")\n",
        "        print(f\"Average weekday consumption: {avg_weekday_data['kW'].mean():.2f} kW\")\n",
        "        print(f\"Average weekend consumption: {avg_weekend_data['kW'].mean():.2f} kW\")\n",
        "        print(f\"Max weekday consumption: {max_weekday_data['kW'].mean():.2f} kW (on {max_weekday_date})\")\n",
        "        print(f\"Min consumption: {min_consumption_data['kW'].mean():.2f} kW (on {min_consumption_date})\")\n",
        "        print(f\"Average generation (scaled): {avg_generation_data['kW'].mean():.2f} kW\")\n",
        "\n",
        "    plt.tight_layout()\n",
        "    plt.show()\n",
        "\n",
        "    print(f\"\\nOriginal analysis completed with Generation Scaling Factor: {scaling_factor.value:.2f}\")\n",
        "\n",
        "# Observe changes in scaling factor and run the analysis\n",
        "scaling_factor.observe(run_original_analysis, names='value')\n",
        "\n",
        "# Initial run of original analysis\n",
        "run_original_analysis()"
      ],
      "metadata": {
        "id": "FWl9FcMOvMfM"
      },
      "execution_count": null,
      "outputs": []
    },
    {
      "cell_type": "markdown",
      "source": [
        "# Analyse Energy Usage and Export\n"
      ],
      "metadata": {
        "id": "cwfdh35oyOMD"
      }
    },
    {
      "cell_type": "code",
      "source": [
        "from ipywidgets import interact, FloatSlider\n",
        "\n",
        "def analyze_energy(*args):\n",
        "    # Calculate daily energy totals\n",
        "    daily_energy = pd.merge(\n",
        "        df_consumption.groupby(df_consumption['datetime'].dt.date)['kW'].sum().reset_index(name='consumer_usage_kWh'),\n",
        "        df_generation.groupby(df_generation['datetime'].dt.date)['kW'].sum().reset_index(name='generation_kWh'),\n",
        "        on='datetime'\n",
        "    )\n",
        "\n",
        "    # Calculate unused generated energy and grid consumption\n",
        "    daily_energy['unused_generated_kWh'] = (daily_energy['generation_kWh'] - daily_energy['consumer_usage_kWh']).clip(lower=0)\n",
        "    daily_energy['grid_consumption_kWh'] = (daily_energy['consumer_usage_kWh'] - daily_energy['generation_kWh']).clip(lower=0)\n",
        "\n",
        "    # Add season information\n",
        "    daily_energy['season'] = daily_energy['datetime'].apply(get_season)\n",
        "\n",
        "    # Calculate total energy metrics\n",
        "    total_generation = daily_energy['generation_kWh'].sum()\n",
        "    total_consumer_usage = daily_energy['consumer_usage_kWh'].sum()\n",
        "    total_unused_generated = daily_energy['unused_generated_kWh'].sum()\n",
        "    total_grid_consumption = daily_energy['grid_consumption_kWh'].sum()\n",
        "\n",
        "    print(f\"\\nOverall Energy Analysis (Generation Scaling Factor: {scaling_factor.value:.2f}):\")\n",
        "    print(f\"Total Energy Generated: {total_generation:.2f} kWh\")\n",
        "    print(f\"Total Energy Used by Consumer: {total_consumer_usage:.2f} kWh\")\n",
        "    print(f\"Total Unused Generated Energy: {total_unused_generated:.2f} kWh\")\n",
        "    print(f\"Total Grid Consumption: {total_grid_consumption:.2f} kWh\")\n",
        "    print(f\"Percentage of Consumer Usage Covered by Generation: {(total_generation / total_consumer_usage * 100):.2f}%\")\n",
        "\n",
        "    # Analyze by season\n",
        "    seasonal_energy = daily_energy.groupby('season').agg({\n",
        "        'generation_kWh': 'sum',\n",
        "        'consumer_usage_kWh': 'sum',\n",
        "        'unused_generated_kWh': 'sum',\n",
        "        'grid_consumption_kWh': 'sum'\n",
        "    }).reset_index()\n",
        "\n",
        "    seasonal_energy['generation_coverage_percentage'] = (\n",
        "        seasonal_energy['generation_kWh'] / seasonal_energy['consumer_usage_kWh'] * 100\n",
        "    ).clip(upper=100)\n",
        "\n",
        "    print(\"\\nSeasonal Energy Analysis:\")\n",
        "    for _, row in seasonal_energy.iterrows():\n",
        "        print(f\"\\n{row['season']}:\")\n",
        "        print(f\"  Energy Generated: {row['generation_kWh']:.2f} kWh\")\n",
        "        print(f\"  Energy Used by Consumer: {row['consumer_usage_kWh']:.2f} kWh\")\n",
        "        print(f\"  Unused Generated Energy: {row['unused_generated_kWh']:.2f} kWh\")\n",
        "        print(f\"  Grid Consumption: {row['grid_consumption_kWh']:.2f} kWh\")\n",
        "        print(f\"  Percentage of Consumer Usage Covered by Generation: {row['generation_coverage_percentage']:.2f}%\")\n",
        "\n",
        "    # Plotting\n",
        "    plt.figure(figsize=(15, 8))\n",
        "    bar_width = 0.2\n",
        "    index = range(len(seasonal_energy))\n",
        "\n",
        "    plt.bar(index, seasonal_energy['generation_kWh'], bar_width, label='Generated', color='green')\n",
        "    plt.bar([i + bar_width for i in index], seasonal_energy['consumer_usage_kWh'], bar_width, label='Consumer Usage', color='blue')\n",
        "    plt.bar([i + 2 * bar_width for i in index], seasonal_energy['unused_generated_kWh'], bar_width, label='Unused Generated', color='yellow')\n",
        "    plt.bar([i + 3 * bar_width for i in index], seasonal_energy['grid_consumption_kWh'], bar_width, label='Grid Consumption', color='red')\n",
        "\n",
        "    plt.xlabel('Season')\n",
        "    plt.ylabel('Energy (kWh)')\n",
        "    plt.title(f'Seasonal Energy Analysis (Generation Scaling Factor: {scaling_factor.value:.2f})')\n",
        "    plt.xticks([i + 1.5 * bar_width for i in index], seasonal_energy['season'])\n",
        "    plt.legend()\n",
        "\n",
        "    plt.tight_layout()\n",
        "    plt.show()\n",
        "\n",
        "    # Display daily energy data\n",
        "    #print(\"\\nDaily Energy Data (first 5 rows):\")\n",
        "    #print(daily_energy.head())\n",
        "print(f\"\\nAnalysis completed with Generation Scaling Factor: {scaling_factor.value:.2f}\")\n",
        "\n",
        "scaling_factor.observe(analyze_energy, names='value')\n",
        "analyze_energy()"
      ],
      "metadata": {
        "id": "sADhBUntyTZU"
      },
      "execution_count": null,
      "outputs": []
    },
    {
      "cell_type": "markdown",
      "source": [
        "# Battery Simulator"
      ],
      "metadata": {
        "id": "pzVEmMM_5KFt"
      }
    },
    {
      "cell_type": "code",
      "source": [
        "battery_capacity = widgets.IntSlider(\n",
        "    value=10,\n",
        "    min=0,\n",
        "    max=100,\n",
        "    step=1,\n",
        "    description='Battery Capacity (kWh):',\n",
        "    continuous_update=False,\n",
        "    readout_format='d'\n",
        ")\n",
        "\n",
        "display(battery_capacity)\n",
        "print(\"Adjust the slider to set the battery capacity in kWh.\")"
      ],
      "metadata": {
        "id": "xyiMDvru5V5W"
      },
      "execution_count": null,
      "outputs": []
    },
    {
      "cell_type": "code",
      "source": [
        "\n",
        "\n"
      ],
      "metadata": {
        "id": "r_ESPxzt5QrU"
      },
      "execution_count": null,
      "outputs": []
    }
  ]
}